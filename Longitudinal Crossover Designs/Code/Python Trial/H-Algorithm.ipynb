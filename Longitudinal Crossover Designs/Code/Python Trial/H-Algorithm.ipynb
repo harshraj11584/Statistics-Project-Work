{
 "cells": [
  {
   "cell_type": "code",
   "execution_count": 1,
   "metadata": {},
   "outputs": [],
   "source": [
    "import numpy as np \n",
    "import pandas as pd \n",
    "import scipy.optimize "
   ]
  },
  {
   "cell_type": "code",
   "execution_count": 2,
   "metadata": {},
   "outputs": [],
   "source": [
    "p=2\n",
    "theta_bounds = [(-0.5, 1.5)]*(1+p+1)\n",
    "psi_max = np.inf "
   ]
  },
  {
   "cell_type": "code",
   "execution_count": 3,
   "metadata": {},
   "outputs": [
    {
     "data": {
      "text/plain": [
       "4.490771750442258"
      ]
     },
     "execution_count": 3,
     "metadata": {},
     "output_type": "execute_result"
    }
   ],
   "source": [
    "def psi(design=None,theta=None):\n",
    "    rho=0.3 #Cross-Correlation Coefficient\n",
    "    \n",
    "    X1 = np.array([[1, 1, 1, 0],[1, -1, 1, 1]]) \n",
    "    X2 = np.array([[1, 1, 1, 0],[1, -1, -1, 1]]) \n",
    "    X3 = np.array([[1, 1, -1, 0],[1, -1, 1, -1]]) \n",
    "    X4 = np.array([[1, 1, -1, 0],[1, -1, -1, -1]]) \n",
    "    \n",
    "#     print(X1.shape,theta.shape)\n",
    "#     print(theta)\n",
    "    \n",
    "    n1=X1@theta.T\n",
    "    n2=X2@theta.T\n",
    "    n3=X3@theta.T\n",
    "    n4=X4@theta.T\n",
    "    \n",
    "    u1=np.exp(n1)/(1+np.exp(n1))\n",
    "    u2=np.exp(n2)/(1+np.exp(n2))\n",
    "    u3=np.exp(n3)/(1+np.exp(n3))\n",
    "    u4=np.exp(n4)/(1+np.exp(n4))\n",
    "    \n",
    "    A1=np.diag(u1*(1-u1))\n",
    "    A2=np.diag(u2*(1-u2))\n",
    "    A3=np.diag(u3*(1-u3))\n",
    "    A4=np.diag(u4*(1-u4))\n",
    "#     print(\"A1.shape=\",A1.shape)\n",
    "    \n",
    "    R= rho*np.ones((p,p))+(1-rho)*np.eye(p)\n",
    "    R_inv = np.linalg.inv(R)\n",
    "    \n",
    "#     (4, 2) (2,2) (2, 2) (2,2) (2, 4)\n",
    "#     print(X1.T.shape,np.sqrt(A1).shape,R_inv.shape,np.sqrt(A1).shape,X1.shape)\n",
    "\n",
    "    asymptotic_information_matrix = design[0]*X1.T@np.sqrt(A1)@R_inv@np.sqrt(A1)@X1 +design[1]*X2.T@np.sqrt(A2)@R_inv@np.sqrt(A2)@X2 +design[2]*X3.T@np.sqrt(A3)@R_inv@np.sqrt(A3)@X3 +design[3]*X4.T@np.sqrt(A4)@R_inv@np.sqrt(A4)@X4\n",
    "    \n",
    "    asymptotic_variance = np.linalg.inv(asymptotic_information_matrix)\n",
    "    C=asymptotic_variance[2,2]\n",
    "    return C \n",
    "\n",
    "    \n",
    "psi([0.25, 0.25, 0.25, 0.25],np.array([1.0, 1.0, 1.0, 1.0]) )"
   ]
  },
  {
   "cell_type": "code",
   "execution_count": 4,
   "metadata": {},
   "outputs": [
    {
     "data": {
      "text/plain": [
       "4.490771750442258"
      ]
     },
     "execution_count": 4,
     "metadata": {},
     "output_type": "execute_result"
    }
   ],
   "source": [
    "def B(design, theta_vals, prob_vals):\n",
    "    s1 = sum([prob_vals[i] * psi(design,theta_vals[i]) for i in range(len(theta_vals))])\n",
    "    return s1 \n",
    "\n",
    "B([0.25, 0.25, 0.25, 0.25], [np.array([1.0, 1.0, 1.0, 1.0])], [1.0]  )"
   ]
  },
  {
   "cell_type": "code",
   "execution_count": 5,
   "metadata": {},
   "outputs": [
    {
     "data": {
      "text/plain": [
       "array([0.35667055, 0.28776547, 0.15123807, 0.20432591])"
      ]
     },
     "execution_count": 5,
     "metadata": {},
     "output_type": "execute_result"
    }
   ],
   "source": [
    "def get_ootad(theta_vals, prob_vals):  \n",
    "    B_pi = lambda des: B(des,theta_vals,prob_vals) \n",
    "    \n",
    "    bd= [(1e-12,1-1e-12)]*(1+p+1)\n",
    "    def cnst(x):\n",
    "        if abs(1-sum(x))<1e-5:\n",
    "            return 0 \n",
    "        else:\n",
    "            return -1    \n",
    "    opt_des = None; min_B=np.inf;\n",
    "    num_trials = 100 \n",
    "    for trial in range(num_trials):  \n",
    "        \n",
    "        sample = np.random.random_sample(size=4)\n",
    "        des0 = sample/np.sum(sample)        \n",
    "        res = scipy.optimize.minimize(B_pi,des0,bounds=bd,constraints={'fun':cnst,'type':'eq'})\n",
    "        if abs(sum(res.x)-1)>0.01:\n",
    "            print(\"?\")\n",
    "        \n",
    "        if res.fun<min_B:\n",
    "            min_B=res.fun\n",
    "            opt_des=res.x\n",
    "    \n",
    "    return opt_des\n",
    "        \n",
    "        \n",
    "get_ootad([np.array([1.0, 1.0, 1.0, 1.0])],[1.0]) "
   ]
  },
  {
   "cell_type": "code",
   "execution_count": 6,
   "metadata": {},
   "outputs": [
    {
     "data": {
      "text/plain": [
       "array([1.5, 1.5, 1.5, 1.5])"
      ]
     },
     "execution_count": 6,
     "metadata": {},
     "output_type": "execute_result"
    }
   ],
   "source": [
    "def get_least_fav_theta(des):\n",
    "    global psi_max\n",
    "    \n",
    "    psi_theta = lambda theta: -1*psi(des,theta)\n",
    "    bd = theta_bounds\n",
    "    \n",
    "    opt_theta=None; \n",
    "    psi_max=-np.inf;\n",
    "    num_trials = 100 \n",
    "    for trial in range(num_trials):\n",
    "        theta0 = np.array([np.random.uniform(low=theta_bounds[i][0],high=theta_bounds[i][1]) for i in range(1+p+1)])\n",
    "        res = scipy.optimize.minimize(psi_theta,theta0,bounds=theta_bounds)\n",
    "#         print(res)\n",
    "        if -1*res.fun>psi_max:\n",
    "            psi_max = -1*res.fun\n",
    "            opt_theta=res.x \n",
    "    \n",
    "#     print(\"psi_max=\",psi_max)\n",
    "    \n",
    "    return opt_theta\n",
    "        \n",
    "        \n",
    "get_least_fav_theta([0.25, 0.25, 0.25, 0.25]) "
   ]
  },
  {
   "cell_type": "code",
   "execution_count": 7,
   "metadata": {},
   "outputs": [
    {
     "name": "stdout",
     "output_type": "stream",
     "text": [
      "[0.   0.25 0.5  0.75 1.  ]\n",
      "[array([1., 1., 1., 1.])]\n",
      "[1.]\n",
      "4.275068941945748\n"
     ]
    }
   ],
   "source": [
    "l = 1\n",
    "B_pi_l = -np.inf\n",
    "steps = 5\n",
    "H = np.linspace(0.0,1.0,steps)\n",
    "print(H)\n",
    "\n",
    "#Initial Prior\n",
    "theta_vals_l = [np.ones((1+p+1))]\n",
    "prob_vals_l = np.array([1.0])\n",
    "\n",
    "# psi_l = get_ootad()\n",
    "print(theta_vals_l)\n",
    "print(prob_vals_l)\n",
    "\n",
    "des_l = get_ootad(theta_vals_l,prob_vals_l)\n",
    "B_pi_l = B(des_l,theta_vals_l,prob_vals_l)\n",
    "\n",
    "print(B_pi_l)"
   ]
  },
  {
   "cell_type": "code",
   "execution_count": 8,
   "metadata": {},
   "outputs": [
    {
     "name": "stdout",
     "output_type": "stream",
     "text": [
      "Iter 1 psi_max= 9.672805963166335 \tB_pi_l= 9.108738439375172\n",
      "Iter 2 psi_max= 9.492856499851834 \tB_pi_l= 9.228267196949247\n",
      "Iter 3 psi_max= 9.428045638209202 \tB_pi_l= 9.426842640220121\n",
      "Iter 4 psi_max= 9.482235445216215 \tB_pi_l= 9.438603326894928\n",
      "Iter 5 psi_max= 9.472381982447581 \tB_pi_l= 9.606203985035677\n",
      "[1. 1. 1. 1.] with prob 0.0\n",
      "[1.5 1.5 1.5 1.5] with prob 0.13444894220358966\n",
      "[1.5        1.07731599 1.5        1.5       ] with prob 0.03585305125429057\n",
      "[1.5 1.5 1.5 1.5] with prob 0.3689876524920737\n",
      "[1.5 1.5 1.5 1.5] with prob 0.0023281735107729563\n",
      "[1.5 1.5 1.5 1.5] with prob 0.4583821805392732\n"
     ]
    }
   ],
   "source": [
    "while(True):\n",
    "    theta_l = get_least_fav_theta(des_l)\n",
    "#     print(type(theta_l))\n",
    "    T = len(H) \n",
    "    B_pi_l1 = -np.inf \n",
    "    theta_vals_l1, prob_vals_l1, des_l1 = None, None, None;\n",
    "    \n",
    "    while(B_pi_l1<B_pi_l):        \n",
    "        \n",
    "        for t in range(T):\n",
    "            #generating new prior \n",
    "            theta_vals_l_t = theta_vals_l + [ theta_l ]\n",
    "            prob_vals_l_t = [(1-H[t])*prob_vals_l[i] for i in range(len(prob_vals_l))] + [H[t]]\n",
    "            des_l_t = get_ootad(theta_vals_l_t,prob_vals_l_t)\n",
    "            B_pi_l_t = B(des_l_t,theta_vals_l_t,prob_vals_l_t) \n",
    "\n",
    "            if B_pi_l_t>B_pi_l1:\n",
    "                theta_vals_l1 = theta_vals_l_t\n",
    "                prob_vals_l1 = prob_vals_l_t\n",
    "                des_l1 = des_l_t \n",
    "                B_pi_l1 = B_pi_l_t \n",
    "                \n",
    "        if (B_pi_l1<B_pi_l):            \n",
    "            steps = steps*2\n",
    "            H = np.linspace(0.0,1.0,steps)\n",
    "        \n",
    "    \n",
    "    #Setting l as l+1\n",
    "    theta_vals_l = theta_vals_l1\n",
    "    prob_vals_l = prob_vals_l1\n",
    "    des_l = des_l1 \n",
    "    B_pi_l = B_pi_l1 \n",
    "    l+=1;\n",
    "    \n",
    "    print(\"Iter\",l-1,\"psi_max=\",psi_max,\"\\tB_pi_l=\",B_pi_l)\n",
    "    \n",
    "    if psi_max<=B_pi_l:\n",
    "#         print(\"theta_vals_l=\\n\",theta_vals_l) \n",
    "#         print(\"prob_vals_l=\\n\",prob_vals_l) \n",
    "        for i in range(len(prob_vals_l)):\n",
    "            print(theta_vals_l[i],\"with prob\",prob_vals_l[i])\n",
    "        break"
   ]
  },
  {
   "cell_type": "code",
   "execution_count": 9,
   "metadata": {},
   "outputs": [
    {
     "name": "stdout",
     "output_type": "stream",
     "text": [
      "                                         Prob\n",
      "Theta                                        \n",
      "(1.0, 1.0, 1.0, 1.0)                 0.000000\n",
      "(1.5, 1.0773159896639666, 1.5, 1.5)  0.035853\n",
      "(1.5, 1.5, 1.5, 1.5)                 0.964147\n"
     ]
    }
   ],
   "source": [
    "def see_pmf(theta_vals,prob_vals):\n",
    "    theta_vals = tuple(map(tuple, theta_vals))\n",
    "    d = pd.DataFrame(list(zip(theta_vals,prob_vals)),columns=[\"Theta\", \"Prob\"])\n",
    "#     print(\"Original\\n\",d)\n",
    "    d = d.groupby([\"Theta\"]).aggregate(sum)\n",
    "    print(d)\n",
    "\n",
    "# print(np.array(theta_vals_l))\n",
    "# print(prob_vals_l)\n",
    "see_pmf(theta_vals_l,prob_vals_l)"
   ]
  },
  {
   "cell_type": "code",
   "execution_count": null,
   "metadata": {},
   "outputs": [],
   "source": []
  }
 ],
 "metadata": {
  "kernelspec": {
   "display_name": "Python 3",
   "language": "python",
   "name": "python3"
  },
  "language_info": {
   "codemirror_mode": {
    "name": "ipython",
    "version": 3
   },
   "file_extension": ".py",
   "mimetype": "text/x-python",
   "name": "python",
   "nbconvert_exporter": "python",
   "pygments_lexer": "ipython3",
   "version": "3.7.1"
  }
 },
 "nbformat": 4,
 "nbformat_minor": 2
}
