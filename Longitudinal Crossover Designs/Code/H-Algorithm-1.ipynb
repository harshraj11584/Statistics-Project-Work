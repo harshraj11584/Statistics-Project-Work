{
 "cells": [
  {
   "cell_type": "code",
   "execution_count": 12,
   "metadata": {},
   "outputs": [],
   "source": [
    "import numpy as np\n",
    "import sklearn\n",
    "import sympy\n",
    "from sympy import pprint"
   ]
  },
  {
   "cell_type": "code",
   "execution_count": 13,
   "metadata": {},
   "outputs": [
    {
     "name": "stdout",
     "output_type": "stream",
     "text": [
      "  x      \n",
      "───── + ε\n",
      "x + θ    \n"
     ]
    }
   ],
   "source": [
    "def model(x,θ,ε):\n",
    "    y = x/(θ+x) + ε\n",
    "    return y\n",
    "pprint(model(sympy.Symbol('x'),sympy.Symbol('θ'),sympy.Symbol('ε')))"
   ]
  },
  {
   "cell_type": "code",
   "execution_count": 33,
   "metadata": {},
   "outputs": [
    {
     "name": "stdout",
     "output_type": "stream",
     "text": [
      "0.009259259259259259\n"
     ]
    }
   ],
   "source": [
    "def M(ξ,θ):\n",
    "    x,w = xi\n",
    "#     print(\"x=\",x,\"\\nw=\",w)\n",
    "    return np.sum(w*x**2/((θ+x)**4))\n",
    "w = np.ones(3)\n",
    "x = np.ones(3)*2\n",
    "ξ = (x,w)\n",
    "θ = 4\n",
    "print(M(ξ,θ))"
   ]
  },
  {
   "cell_type": "code",
   "execution_count": 43,
   "metadata": {},
   "outputs": [
    {
     "name": "stdout",
     "output_type": "stream",
     "text": [
      "6.75\n",
      "pi(theta)= [1 0 0 ... 0 0 0]\n",
      "6.75\n"
     ]
    }
   ],
   "source": [
    "def ψ(ξ,θ):\n",
    "    return M(ξ,θ)**(-1)\n",
    "w = np.ones(3)\n",
    "x = np.ones(3)*2\n",
    "ξ = (x,w)\n",
    "θ = 1\n",
    "print(ψ(ξ,θ))\n",
    "\n",
    "def B(ξ,pi):\n",
    "    pi_theta = pi(theta_nod)\n",
    "    print(\"pi(theta)=\",pi_theta)\n",
    "    ψ_theta = np.array([ψ(ξ,theta_nod[i])*pi_theta[i] for i in range(len(theta_nod))])\n",
    "    return np.sum(ψ_theta*pi_theta)\n",
    "print(B(ξ,pi_l))\n",
    "\n",
    "\n",
    "def min_B_xi(xi_space, pi):\n",
    "    minB, xi = np.inf, np.inf\n",
    "    for xival in xi_space:\n",
    "        Bval = B(xi,pi)\n",
    "        if minB>Bval:\n",
    "            minB,xi = Bval, xival\n",
    "    return Bval,xival\n",
    "\n",
    "min_B_xi (  )"
   ]
  },
  {
   "cell_type": "code",
   "execution_count": 42,
   "metadata": {},
   "outputs": [],
   "source": [
    "theta_nod = np.linspace(1,2,int(1e5))\n",
    "h = np.linspace(0.25,1,4)\n",
    "\n",
    "l = 1\n",
    "def pi_l(theta):\n",
    "    return (np.array(theta)==1).astype(np.int32)"
   ]
  },
  {
   "cell_type": "code",
   "execution_count": null,
   "metadata": {},
   "outputs": [],
   "source": []
  }
 ],
 "metadata": {
  "kernelspec": {
   "display_name": "Python 3",
   "language": "python",
   "name": "python3"
  },
  "language_info": {
   "codemirror_mode": {
    "name": "ipython",
    "version": 3
   },
   "file_extension": ".py",
   "mimetype": "text/x-python",
   "name": "python",
   "nbconvert_exporter": "python",
   "pygments_lexer": "ipython3",
   "version": "3.7.1"
  }
 },
 "nbformat": 4,
 "nbformat_minor": 2
}
