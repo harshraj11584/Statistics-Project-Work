{
 "cells": [
  {
   "cell_type": "code",
   "execution_count": 1,
   "metadata": {},
   "outputs": [],
   "source": [
    "import numpy as np\n",
    "import sklearn\n",
    "import sympy\n",
    "from sympy import pprint"
   ]
  },
  {
   "cell_type": "code",
   "execution_count": 2,
   "metadata": {},
   "outputs": [
    {
     "name": "stdout",
     "output_type": "stream",
     "text": [
      "  x      \n",
      "───── + ε\n",
      "x + θ    \n"
     ]
    }
   ],
   "source": [
    "def model(x,θ,ε):\n",
    "    y = x/(θ+x) + ε\n",
    "    return y\n",
    "pprint(model(sympy.Symbol('x'),sympy.Symbol('θ'),sympy.Symbol('ε')))"
   ]
  },
  {
   "cell_type": "code",
   "execution_count": 13,
   "metadata": {
    "scrolled": true
   },
   "outputs": [
    {
     "name": "stdout",
     "output_type": "stream",
     "text": [
      "x= [2. 2. 2.] \n",
      "w= [1. 1. 1.]\n",
      "0.009259259259259259\n",
      "x= [2. 2. 2.] \n",
      "w= [1. 1. 1.]\n",
      "108.0\n"
     ]
    }
   ],
   "source": [
    "def M(ξ,theta):\n",
    "    x,w = ξ\n",
    "    print(\"x=\",x,\"\\nw=\",w)\n",
    "    return np.sum(w*(x**2)/((θ+x)**4))\n",
    "\n",
    "def ψ(ξ,θ):\n",
    "    return M(ξ,θ)**(-1)\n",
    "\n",
    "\n",
    "w = np.ones(3)\n",
    "x = np.ones(3)*2\n",
    "ξ = (x,w)\n",
    "θ = 4\n",
    "print(M(ξ,θ))\n",
    "print(ψ(ξ,θ))"
   ]
  },
  {
   "cell_type": "code",
   "execution_count": 16,
   "metadata": {},
   "outputs": [
    {
     "name": "stdout",
     "output_type": "stream",
     "text": [
      "x= [2. 2. 2.] \n",
      "w= [1. 1. 1.]\n",
      "x= [2. 2. 2.] \n",
      "w= [1. 1. 1.]\n",
      "x= [2. 2. 2.] \n",
      "w= [1. 1. 1.]\n",
      "108.0\n"
     ]
    }
   ],
   "source": [
    "def B(ξ,pi_theta):\n",
    "    prob_vals, theta_vals = pi_theta\n",
    "    list1 = np.array([ (1/M(ξ,theta_vals[i]))*(prob_vals[i]) for i in range(len(prob_vals)) ])\n",
    "    b_val = np.sum(list1)\n",
    "    return b_val\n",
    "\n",
    "w = np.ones(3)\n",
    "x = np.ones(3)*2\n",
    "ξ = (x,w)\n",
    "print(B(ξ,([1,0,0],[1,1.5,2])))"
   ]
  },
  {
   "cell_type": "code",
   "execution_count": 42,
   "metadata": {},
   "outputs": [],
   "source": [
    "theta_nod = np.linspace(1,2,int(1e5))\n",
    "h = np.linspace(0.25,1,4)\n",
    "\n",
    "l = 1\n",
    "def pi_l(theta):\n",
    "    return (np.array(theta)==1).astype(np.int32)"
   ]
  },
  {
   "cell_type": "code",
   "execution_count": null,
   "metadata": {},
   "outputs": [],
   "source": []
  }
 ],
 "metadata": {
  "kernelspec": {
   "display_name": "Python 3",
   "language": "python",
   "name": "python3"
  },
  "language_info": {
   "codemirror_mode": {
    "name": "ipython",
    "version": 3
   },
   "file_extension": ".py",
   "mimetype": "text/x-python",
   "name": "python",
   "nbconvert_exporter": "python",
   "pygments_lexer": "ipython3",
   "version": "3.7.1"
  }
 },
 "nbformat": 4,
 "nbformat_minor": 2
}
